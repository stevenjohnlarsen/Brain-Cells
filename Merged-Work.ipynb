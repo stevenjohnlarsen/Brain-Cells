{
 "cells": [
  {
   "cell_type": "markdown",
   "id": "occasional-carnival",
   "metadata": {},
   "source": [
    "# Master copy to merge each team members work"
   ]
  },
  {
   "cell_type": "markdown",
   "id": "scientific-buffalo",
   "metadata": {},
   "source": [
    "# Businss Understanding \n",
    "This data came from real world microscopic images.  Each image is a blood smear from a patient that was then placed on a slide for imaging.  This data was collected with the intention of classifing Acute Lymphoblastic Leukemia (ALL).  This can be a difficult task in, due to the differences between healthy and cells with leukemia being extremely small.  Each image from the data set was analyzed by an expert oncologist.  \n",
    "\n",
    "With this data a simple prediction task could be to detect the existence of leukemic blasts (cancerous cells).  The upsides to this are clear, with reducing the work load on the doctors.  To be clear the intention is not to replace doctors, so the false negative rate will have to be extremely low.  But instead of a doctor having to look through hundreds of images, sometimes even of one patient, the program can predict what images are likely to have leukemic blasts, and then that will be reviewed by a certified onocologist.\n",
    "\n",
    "Liek disscussed above the false positive rate must be extremely low for this prediction algorithm to be useful.  Conversely the false positive rate can be substantially higher.  In other words it is completely acceptable for the algorithm to indicate there might be leukemic blasts, but it would be unaccetpable for the algorithm to miss even 5% of the leukemic blasts.  That being a 95% accuracy rating of positive (on an image basis not patient) and a 70% accuracy rate of negatives would be accceptable and useful."
   ]
  },
  {
   "cell_type": "markdown",
   "id": "unlimited-alert",
   "metadata": {},
   "source": [
    "# Data Preparation\n",
    "* read in your images as numpy arrays. Resizse and recolor images as necessary\n",
    "* Linearize the images to create a table of 1-D image features (each image should be one row)\n",
    "* Visualize several images"
   ]
  },
  {
   "cell_type": "markdown",
   "id": "suited-stopping",
   "metadata": {},
   "source": [
    "# Data Reduction\n",
    "* Perform linear dimensionality reduction of the images using **principal components analysis**. Visulize the explained variance of each component. Analyze how many dimensions are required to adequately represent your image data. Explain analysis and conclusion.\n",
    "* Compare the representation using PCA and Randomized PCA. The method you choose to comapre dimensionality methods should quantitatively explain which method is better at reresenting the images with fewer components. Do you prefer one method over another? Why?\n",
    "* Perform **feature extraction** upon the images using any feature extraction technique (gabor filerts, ordered gradients, DAISY)\n",
    "* Does this feature extraction method show promise for your prediction task? Why? Use visualizations to analyze this questions. For example, visualize the differences **between statistics of extracted features** in each target class. Another option, use a heat map of the pairwise differences (ordered by class) among all extracted features. Another option, build a nearest neighbor classifier to see actual classification performance.  "
   ]
  },
  {
   "cell_type": "markdown",
   "id": "instrumental-cinema",
   "metadata": {},
   "source": [
    "# Exceptional Work\n",
    "* Perform feature extraction upon the images using DAISY. Rather than using matching go the images with the total DAISY vector, you will instead use key point matching. You will need to investigate appropriate methods for key point matching using DAISY. NOTE: this often requires some type of brute force matching per pair of images, which can be computationally expensive."
   ]
  },
  {
   "cell_type": "code",
   "execution_count": null,
   "id": "rubber-novelty",
   "metadata": {},
   "outputs": [],
   "source": []
  }
 ],
 "metadata": {
  "kernelspec": {
   "display_name": "Python 3",
   "language": "python",
   "name": "python3"
  },
  "language_info": {
   "codemirror_mode": {
    "name": "ipython",
    "version": 3
   },
   "file_extension": ".py",
   "mimetype": "text/x-python",
   "name": "python",
   "nbconvert_exporter": "python",
   "pygments_lexer": "ipython3",
   "version": "3.7.9"
  }
 },
 "nbformat": 4,
 "nbformat_minor": 5
}
