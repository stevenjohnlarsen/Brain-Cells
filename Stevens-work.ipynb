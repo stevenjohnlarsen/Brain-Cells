{
 "cells": [
  {
   "cell_type": "markdown",
   "id": "reasonable-flour",
   "metadata": {},
   "source": [
    "# Work space for Steven"
   ]
  },
  {
   "cell_type": "markdown",
   "id": "threaded-coral",
   "metadata": {},
   "source": [
    "# Businss Understanding \n",
    "This data came from real world microscopic images.  Each image is a blood smear from a patient that was then placed on a slide for imaging.  This data was collected with the intention of classifing Acute Lymphoblastic Leukemia (ALL).  This can be a difficult task in, due to the differences between healthy and cells with leukemia being extremely small.  Each image from the data set was analyzed by an expert oncologist.  \n",
    "\n",
    "With this data a simple prediction task could be to detect the existence of leukemic blasts (cancerous cells).  The upsides to this are clear, with reducing the work load on the doctors.  To be clear the intention is not to replace doctors, so the false negative rate will have to be extremely low.  But instead of a doctor having to look through hundreds of images, sometimes even of one patient, the program can predict what images are likely to have leukemic blasts, and then that will be reviewed by a certified onocologist.\n",
    "\n",
    "Liek disscussed above the false positive rate must be extremely low for this prediction algorithm to be useful.  Conversely the false positive rate can be substantially higher.  In other words it is completely acceptable for the algorithm to indicate there might be leukemic blasts, but it would be unaccetpable for the algorithm to miss even 5% of the leukemic blasts.  That being a 95% accuracy rating of positive (on an image basis not patient) and a 70% accuracy rate of negatives would be accceptable and useful."
   ]
  },
  {
   "cell_type": "code",
   "execution_count": null,
   "id": "norwegian-capitol",
   "metadata": {},
   "outputs": [],
   "source": []
  }
 ],
 "metadata": {
  "kernelspec": {
   "display_name": "Python 3",
   "language": "python",
   "name": "python3"
  },
  "language_info": {
   "codemirror_mode": {
    "name": "ipython",
    "version": 3
   },
   "file_extension": ".py",
   "mimetype": "text/x-python",
   "name": "python",
   "nbconvert_exporter": "python",
   "pygments_lexer": "ipython3",
   "version": "3.7.9"
  }
 },
 "nbformat": 4,
 "nbformat_minor": 5
}
